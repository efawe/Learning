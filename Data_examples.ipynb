{
 "cells": [
  {
   "cell_type": "markdown",
   "metadata": {
    "colab_type": "text",
    "id": "kVlFdirvABPr"
   },
   "source": [
    "Ideas for side projects \n",
    "\n",
    "- \n",
    "\n",
    "Open available datasets to work on \n",
    "\n",
    "-https://cloud.google.com/bigquery/ (17 million Stack Overflow question)"
   ]
  },
  {
   "cell_type": "markdown",
   "metadata": {
    "colab_type": "text",
    "id": "NiHYtDdz-GDT"
   },
   "source": [
    "# AutoML w/ Google\n",
    "\n",
    "[LINK] (https://sararobinson.dev/2019/04/23/interpret-bag-of-words-models-shap.html/)\n",
    "\n",
    "ASK: predict the tags of questions from stack overflow \n",
    "\n",
    "DATA: Bigquery has a public dataset that has over 17 million stack overflow questions \n",
    "\n",
    "\n",
    "Unique: Changes the instance of a giveaway word ie tensorflow, tf, pandas, pd with the word avocado"
   ]
  },
  {
   "cell_type": "markdown",
   "metadata": {
    "colab_type": "text",
    "id": "mMsSlALYAQOV"
   },
   "source": [
    "##Packages"
   ]
  },
  {
   "cell_type": "code",
   "execution_count": null,
   "metadata": {
    "colab": {},
    "colab_type": "code",
    "id": "Ht-db2sT-LrJ"
   },
   "outputs": [],
   "source": [
    "import tensorflow as tf #\n",
    "import pandas as pd #\n",
    "import numpy as np #\n",
    "\n",
    "from sklearn.preprocessing import MultiLabelBinarizer\n",
    "from sklearn.utils import shuffle"
   ]
  },
  {
   "cell_type": "markdown",
   "metadata": {
    "colab_type": "text",
    "id": "Ra3tN9HlAR4c"
   },
   "source": [
    "Splitting the tags based on commas for data cleaning"
   ]
  },
  {
   "cell_type": "markdown",
   "metadata": {
    "colab_type": "text",
    "id": "NuHUmx9GJROB"
   },
   "source": [
    "The fit transform takes the tags and transforms them into a array that can be used later for the matrix application "
   ]
  },
  {
   "cell_type": "code",
   "execution_count": null,
   "metadata": {
    "colab": {},
    "colab_type": "code",
    "id": "XCUxtLThJNP3"
   },
   "outputs": [],
   "source": [
    "tag_encoder = MultiLabelBinarizer()\n",
    "tags_encoded = tag_encoder.fit_transform(tags_split)\n",
    "num_tags = len(tags_encoded[0])"
   ]
  },
  {
   "cell_type": "markdown",
   "metadata": {
    "colab_type": "text",
    "id": "zkSLDpk-JqxB"
   },
   "source": [
    "## Splt the data 80/20 split "
   ]
  },
  {
   "cell_type": "markdown",
   "metadata": {
    "colab_type": "text",
    "id": "X2UfhY77PHC9"
   },
   "source": [
    "## Creating a tokenizer class "
   ]
  },
  {
   "cell_type": "code",
   "execution_count": null,
   "metadata": {
    "colab": {},
    "colab_type": "code",
    "id": "t-vZLbaNPOGx"
   },
   "outputs": [],
   "source": [
    "# Pre-processing data: create our tokenizer class\n",
    "%%writefile preprocess.py\n",
    "\n",
    "from tensorflow.keras.preprocessing import text\n",
    "\n",
    "class TextPreprocessor(object):\n",
    "  def __init__(self, vocab_size):\n",
    "    self._vocab_size = vocab_size\n",
    "    self._tokenizer = None\n",
    "  \n",
    "  def create_tokenizer(self, text_list):\n",
    "    tokenizer = text.Tokenizer(num_words=self._vocab_size)\n",
    "    tokenizer.fit_on_texts(text_list)\n",
    "    self._tokenizer = tokenizer\n",
    "\n",
    "  def transform_text(self, text_list):\n",
    "    text_matrix = self._tokenizer.texts_to_matrix(text_list)\n",
    "    return text_matrix"
   ]
  },
  {
   "cell_type": "markdown",
   "metadata": {
    "colab_type": "text",
    "id": "uXdXWoFkLE9z"
   },
   "source": [
    "The top \"N\" most frequent used words in the model will be the hyperparameter"
   ]
  },
  {
   "cell_type": "markdown",
   "metadata": {
    "colab_type": "text",
    "id": "KdR5q_oZGPTu"
   },
   "source": [
    "# Geological data + python \n",
    "\n",
    "[LINK](https://github.com/uva-hydroinformatics/pysumma)\n",
    "\n"
   ]
  }
 ],
 "metadata": {
  "colab": {
   "name": "Data examples ",
   "provenance": [],
   "toc_visible": true,
   "version": "0.3.2"
  },
  "kernelspec": {
   "display_name": "Python 3",
   "language": "python",
   "name": "python3"
  },
  "language_info": {
   "codemirror_mode": {
    "name": "ipython",
    "version": 3
   },
   "file_extension": ".py",
   "mimetype": "text/x-python",
   "name": "python",
   "nbconvert_exporter": "python",
   "pygments_lexer": "ipython3",
   "version": "3.7.3"
  }
 },
 "nbformat": 4,
 "nbformat_minor": 4
}
