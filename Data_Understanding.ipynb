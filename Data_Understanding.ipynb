{
  "nbformat": 4,
  "nbformat_minor": 0,
  "metadata": {
    "colab": {
      "name": "Data Understanding ",
      "version": "0.3.2",
      "provenance": []
    },
    "kernelspec": {
      "name": "python3",
      "display_name": "Python 3"
    }
  },
  "cells": [
    {
      "cell_type": "code",
      "metadata": {
        "id": "vL-wPGmhBimp",
        "colab_type": "code",
        "colab": {}
      },
      "source": [
        ""
      ],
      "execution_count": 0,
      "outputs": []
    },
    {
      "cell_type": "markdown",
      "metadata": {
        "id": "Sh-XhXQRBlI-",
        "colab_type": "text"
      },
      "source": [
        "# Machine learning model generalization "
      ]
    },
    {
      "cell_type": "markdown",
      "metadata": {
        "id": "iAv8PxqvCA4h",
        "colab_type": "text"
      },
      "source": [
        "- A lot of matrix multiplication under the hood \n",
        "    - Everything is converted to matrics \n",
        "![matrix](https://sararobinson.dev/assets/media/matmul.png)\n",
        "\n",
        "\n",
        "- Any data can be converted into matrix \n",
        "    - [bag of worm](https://en.wikipedia.org/wiki/Bag-of-words_model) model is a way to convert free form text inputs into matrics \n",
        "           - PRO: it can understand the presence of absence of certain words \n",
        "           - CON: it can't understand the order of words\n",
        "           - Take the top N most used words from the text"
      ]
    },
    {
      "cell_type": "markdown",
      "metadata": {
        "id": "juz71nMVPfpT",
        "colab_type": "text"
      },
      "source": [
        "## Hyper parameter\n",
        "\n",
        "Configuration that is external to the model and whose value cannot be estimated from data\n",
        "\n",
        "They are often used in processes to help estimate model parameters.\n",
        "They are often specified by the practitioner.\n",
        "They can often be set using heuristics.\n",
        "They are often tuned for a given predictive modeling problem.\n",
        "\n",
        "Some examples of model hyperparameters include:\n",
        "\n",
        "- The learning rate for training a neural network.\n",
        "- The C and sigma hyperparameters for support vector machines.\n",
        "- The k in k-nearest neighbors."
      ]
    },
    {
      "cell_type": "markdown",
      "metadata": {
        "id": "I_20PLebBn2z",
        "colab_type": "text"
      },
      "source": [
        "# Cleaning data "
      ]
    },
    {
      "cell_type": "markdown",
      "metadata": {
        "id": "YSX5flUbEO70",
        "colab_type": "text"
      },
      "source": [
        ""
      ]
    },
    {
      "cell_type": "markdown",
      "metadata": {
        "id": "9k00NZ6qBy2P",
        "colab_type": "text"
      },
      "source": [
        "## Drop columns \n",
        "\n"
      ]
    },
    {
      "cell_type": "code",
      "metadata": {
        "id": "cVlHtwAVB7qr",
        "colab_type": "code",
        "colab": {}
      },
      "source": [
        "data = data.drop(columns = ['var1', 'var2','var3'])"
      ],
      "execution_count": 0,
      "outputs": []
    },
    {
      "cell_type": "markdown",
      "metadata": {
        "id": "zO3F95NABraR",
        "colab_type": "text"
      },
      "source": [
        "## NA's \n"
      ]
    },
    {
      "cell_type": "code",
      "metadata": {
        "id": "wv-sktdfBthx",
        "colab_type": "code",
        "colab": {}
      },
      "source": [
        "data = data.dropna()"
      ],
      "execution_count": 0,
      "outputs": []
    },
    {
      "cell_type": "markdown",
      "metadata": {
        "id": "M6sXe9QXEiky",
        "colab_type": "text"
      },
      "source": [
        "# Data manipulation / overall stuff?\n"
      ]
    },
    {
      "cell_type": "markdown",
      "metadata": {
        "id": "yKZLLf-OJ9jg",
        "colab_type": "text"
      },
      "source": [
        "## Text manipulation\n"
      ]
    },
    {
      "cell_type": "code",
      "metadata": {
        "id": "oT18MnUpKA9G",
        "colab_type": "code",
        "colab": {}
      },
      "source": [
        "# %d, acts as a placeholder for a number\n",
        "# %s, acts as a placeholder for a string \n",
        "\n",
        "# In this case the % is a placeholder for the train size\n",
        "print (\"Train size: %d\" % train_size)\n",
        "\n",
        "name = 'marcog'\n",
        "number = 42\n",
        "print '%s %d' % (name, number)"
      ],
      "execution_count": 0,
      "outputs": []
    },
    {
      "cell_type": "markdown",
      "metadata": {
        "id": "85AY2IxZEm3v",
        "colab_type": "text"
      },
      "source": [
        "## List comprehensions\n",
        "\n",
        "Lists that generate themselves with an internal for loop \n",
        "[LINK](https://blog.teamtreehouse.com/python-single-line-loops)\n",
        "\n",
        "Being able to make a one line for loop instead of making 3 lines \n",
        "\n",
        "Can use conditions inside of them \n",
        "\n",
        "[thing for thing in list_of_things add ons] \n",
        "\n",
        "1. thing = the final action of the particular item in the list. Could be a * or a split \n",
        "2. for thing is the actual iteration of the for loop \n",
        "3. list of things is the variable that is being iterated through \n",
        "4. add ons can be conditions"
      ]
    },
    {
      "cell_type": "code",
      "metadata": {
        "id": "5doWluPFEpgG",
        "colab_type": "code",
        "colab": {}
      },
      "source": [
        "data_mock = [data.split(',') for tags in data['tags'].values]\n",
        "# 1. the data is split among the commas\n",
        "# 2. for loop on the tags \n",
        "# 3. The list are the data['tags'].values\n",
        "# 4. No addons "
      ],
      "execution_count": 0,
      "outputs": []
    },
    {
      "cell_type": "markdown",
      "metadata": {
        "id": "_piZA-TMH9xK",
        "colab_type": "text"
      },
      "source": [
        "## Splitting the data "
      ]
    },
    {
      "cell_type": "code",
      "metadata": {
        "id": "KTeeXTCtJnBB",
        "colab_type": "code",
        "colab": {}
      },
      "source": [
        "train_size = int(len(data) * .8)\n",
        "print (\"Train size: %d\" % train_size)\n",
        "print (\"Test size: %d\" % (len(data) - train_size))"
      ],
      "execution_count": 0,
      "outputs": []
    }
  ]
}